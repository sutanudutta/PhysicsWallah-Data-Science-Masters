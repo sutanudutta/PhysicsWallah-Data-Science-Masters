{
 "cells": [
  {
   "cell_type": "code",
   "execution_count": 1,
   "id": "5156fb51-998c-495d-8c05-d7a6c00385db",
   "metadata": {},
   "outputs": [],
   "source": [
    "a=10"
   ]
  },
  {
   "cell_type": "code",
   "execution_count": 2,
   "id": "523fc409-1898-4fd1-b65f-61a732906de4",
   "metadata": {},
   "outputs": [],
   "source": [
    "a='c'"
   ]
  },
  {
   "cell_type": "code",
   "execution_count": 3,
   "id": "338eb29d-4cc1-44e5-acff-6d7efde09540",
   "metadata": {},
   "outputs": [
    {
     "data": {
      "text/plain": [
       "str"
      ]
     },
     "execution_count": 3,
     "metadata": {},
     "output_type": "execute_result"
    }
   ],
   "source": [
    "type(a)"
   ]
  },
  {
   "cell_type": "code",
   "execution_count": 4,
   "id": "d0d82288-8e58-4005-84ee-3089c64387a1",
   "metadata": {},
   "outputs": [
    {
     "data": {
      "text/plain": [
       "0"
      ]
     },
     "execution_count": 4,
     "metadata": {},
     "output_type": "execute_result"
    }
   ],
   "source": [
    "int()"
   ]
  },
  {
   "cell_type": "code",
   "execution_count": 5,
   "id": "0305e49c-5f49-4bae-8db5-cd7fd6fbfa88",
   "metadata": {},
   "outputs": [
    {
     "data": {
      "text/plain": [
       "int"
      ]
     },
     "execution_count": 5,
     "metadata": {},
     "output_type": "execute_result"
    }
   ],
   "source": [
    "int"
   ]
  },
  {
   "cell_type": "code",
   "execution_count": 7,
   "id": "fac418ad-3ff4-4357-bef6-1633106c2359",
   "metadata": {},
   "outputs": [
    {
     "data": {
      "text/plain": [
       "0"
      ]
     },
     "execution_count": 7,
     "metadata": {},
     "output_type": "execute_result"
    }
   ],
   "source": [
    "#If I do not give any argument it returns 0\n",
    "int()"
   ]
  },
  {
   "cell_type": "code",
   "execution_count": 8,
   "id": "ef9a6135-e124-46fc-a0fe-e9f539984f5c",
   "metadata": {},
   "outputs": [
    {
     "data": {
      "text/plain": [
       "123"
      ]
     },
     "execution_count": 8,
     "metadata": {},
     "output_type": "execute_result"
    }
   ],
   "source": [
    "int('123')"
   ]
  },
  {
   "cell_type": "code",
   "execution_count": 9,
   "id": "062f5467-ed0b-44ef-84fb-1b631cdaf95d",
   "metadata": {},
   "outputs": [
    {
     "ename": "ValueError",
     "evalue": "invalid literal for int() with base 10: 'abcd'",
     "output_type": "error",
     "traceback": [
      "\u001b[0;31m---------------------------------------------------------------------------\u001b[0m",
      "\u001b[0;31mValueError\u001b[0m                                Traceback (most recent call last)",
      "Cell \u001b[0;32mIn[9], line 1\u001b[0m\n\u001b[0;32m----> 1\u001b[0m \u001b[38;5;28;43mint\u001b[39;49m\u001b[43m(\u001b[49m\u001b[38;5;124;43m'\u001b[39;49m\u001b[38;5;124;43mabcd\u001b[39;49m\u001b[38;5;124;43m'\u001b[39;49m\u001b[43m)\u001b[49m\n",
      "\u001b[0;31mValueError\u001b[0m: invalid literal for int() with base 10: 'abcd'"
     ]
    }
   ],
   "source": [
    "int('abcd')"
   ]
  },
  {
   "cell_type": "code",
   "execution_count": 1,
   "id": "c2e733e3-cf3b-48b1-acb5-963a4f1a03eb",
   "metadata": {},
   "outputs": [
    {
     "name": "stdout",
     "output_type": "stream",
     "text": [
      "Hello World\n"
     ]
    }
   ],
   "source": [
    "print(\"Hello World\")"
   ]
  },
  {
   "cell_type": "code",
   "execution_count": 2,
   "id": "224a0fae-8680-49cd-85ac-24936dde0003",
   "metadata": {},
   "outputs": [
    {
     "name": "stdout",
     "output_type": "stream",
     "text": [
      "123\n"
     ]
    }
   ],
   "source": [
    "print(123)"
   ]
  },
  {
   "cell_type": "code",
   "execution_count": 4,
   "id": "0272f1b5-6dce-4b98-89bd-1abad07d31d3",
   "metadata": {},
   "outputs": [
    {
     "name": "stdout",
     "output_type": "stream",
     "text": [
      "My age is: 32\n"
     ]
    }
   ],
   "source": [
    "age=32\n",
    "print(\"My age is:\",age)"
   ]
  },
  {
   "cell_type": "markdown",
   "id": "dcff5e93-a901-44f0-8bc9-a89f5b66e336",
   "metadata": {},
   "source": [
    "F String"
   ]
  },
  {
   "cell_type": "code",
   "execution_count": 3,
   "id": "a8a22eaf-ffb7-4c8b-a0b8-2e2080394a9c",
   "metadata": {},
   "outputs": [
    {
     "name": "stdout",
     "output_type": "stream",
     "text": [
      "My age is: 32\n"
     ]
    }
   ],
   "source": [
    "#f string in python. To consider what is written in anagular braces\n",
    "print(f\"My age is: {age}\")"
   ]
  },
  {
   "cell_type": "markdown",
   "id": "fb6bff7f-f4ae-487c-8f8e-fb8aeb6acb78",
   "metadata": {},
   "source": [
    "Format"
   ]
  },
  {
   "cell_type": "code",
   "execution_count": 7,
   "id": "e93572ed-4cf4-41b3-8d3b-6cda8c53e9c3",
   "metadata": {},
   "outputs": [
    {
     "name": "stdout",
     "output_type": "stream",
     "text": [
      "My name is Krish and 32\n"
     ]
    }
   ],
   "source": [
    "name=\"Krish\"\n",
    "age=32\n",
    "print(\"My name is {} and {}\". format(name,age))"
   ]
  },
  {
   "cell_type": "code",
   "execution_count": 8,
   "id": "10a47205-70b3-4a55-a708-dede97517502",
   "metadata": {},
   "outputs": [
    {
     "name": "stdout",
     "output_type": "stream",
     "text": [
      "My name is 32 and Krish\n"
     ]
    }
   ],
   "source": [
    "#Sequence is important \n",
    "print(\"My name is {} and {}\". format(age,name))"
   ]
  },
  {
   "cell_type": "code",
   "execution_count": 9,
   "id": "5b88c0ef-d4fd-411c-af43-991206de81b4",
   "metadata": {},
   "outputs": [
    {
     "name": "stdout",
     "output_type": "stream",
     "text": [
      "My name is Krish and 32\n"
     ]
    }
   ],
   "source": [
    "#Plance holder\n",
    "print(\"My name is {firstname} and {firstage}\". format(firstname=name,firstage=age))"
   ]
  },
  {
   "cell_type": "code",
   "execution_count": 1,
   "id": "4780bcbb-7aa9-49b8-8941-1f0195fe8cd8",
   "metadata": {},
   "outputs": [
    {
     "name": "stdout",
     "output_type": "stream",
     "text": [
      "My age is: 32 and I have completed :my degree of BE with the name of Krish Nair \n"
     ]
    }
   ],
   "source": [
    "name=\"Krish Nair\"\n",
    "age=32\n",
    "degree=\"BE\"\n",
    "#Print this output : My age is: 32 and I have completed :my degree of BE with the name of Krish Nair \n",
    "\n",
    "print(f\"My age is: {age} and I have completed :my degree of {degree} with the name of {name} \")"
   ]
  },
  {
   "cell_type": "code",
   "execution_count": 4,
   "id": "0bc5b4af-2d25-40b4-945e-239a2412942c",
   "metadata": {},
   "outputs": [
    {
     "name": "stdout",
     "output_type": "stream",
     "text": [
      "My age is:32 and I have completed :my degree of BE with the name of Krish Nair\n"
     ]
    }
   ],
   "source": [
    "print(\"My age is:{userage} and I have completed :my degree of {userdegree} with the name of {username}\" .format(userage=age,userdegree=degree,username=name) )"
   ]
  },
  {
   "cell_type": "markdown",
   "id": "7c519c43-6729-4d11-962f-023287dc0c63",
   "metadata": {},
   "source": [
    "## Control Flow\n",
    "### Decision Making Statements\n"
   ]
  },
  {
   "cell_type": "markdown",
   "id": "cbcc4694-0d9a-4aeb-8b56-d88019d81865",
   "metadata": {},
   "source": [
    " 4.1 Decision Making Statement\n",
    "It is kind of making decision during occurred situation of program execution and action can be taken according to specified conditions.\n",
    "Structure of decision making evaluate several expressions that provide True or False as a result.\n",
    "It is up to you to decide which type of action want to take and execute the statements based upon True and False.\n",
    "These are several topics of decision making which going to be discussed below:\n",
    "\n",
    "1.if\n",
    "2.if else\n",
    "3.if elif else\n",
    "4.Nested if\n",
    "5.Single Statement Suites "
   ]
  },
  {
   "cell_type": "code",
   "execution_count": 4,
   "id": "b2d0cc0e-a439-4fbe-81c6-0a25b0aeb058",
   "metadata": {},
   "outputs": [
    {
     "name": "stdout",
     "output_type": "stream",
     "text": [
      "You are eligible to vote\n"
     ]
    }
   ],
   "source": [
    "##If Statement\n",
    "age=18\n",
    "if age>=18: \n",
    "    print(\"You are eligible to vote\")"
   ]
  },
  {
   "cell_type": "markdown",
   "id": "3a2c0236-5681-4052-b44a-343139a64f0b",
   "metadata": {},
   "source": [
    "Condition : ==    <=    =< "
   ]
  },
  {
   "cell_type": "code",
   "execution_count": 1,
   "id": "789711bd-ae8d-4104-acc5-f25fec91782b",
   "metadata": {},
   "outputs": [],
   "source": [
    "##If Statement\n",
    "age=18\n",
    "if age<18: \n",
    "    print(\"You are not eligible to vote\")"
   ]
  },
  {
   "cell_type": "code",
   "execution_count": 3,
   "id": "877f0562-7c46-4bda-a13d-f6b11c209657",
   "metadata": {},
   "outputs": [
    {
     "name": "stdout",
     "output_type": "stream",
     "text": [
      "You are not eligible to vote\n"
     ]
    }
   ],
   "source": [
    "##If Statement\n",
    "age=17\n",
    "if age<18: \n",
    "    print(\"You are not eligible to vote\")"
   ]
  },
  {
   "cell_type": "code",
   "execution_count": 4,
   "id": "6ea09eb4-ad43-4598-ad7e-d19be87a56ef",
   "metadata": {},
   "outputs": [
    {
     "data": {
      "text/plain": [
       "True"
      ]
     },
     "execution_count": 4,
     "metadata": {},
     "output_type": "execute_result"
    }
   ],
   "source": [
    "17<18"
   ]
  },
  {
   "cell_type": "code",
   "execution_count": 5,
   "id": "bcf259c8-ece1-4e0a-86bc-a417d848301e",
   "metadata": {},
   "outputs": [
    {
     "data": {
      "text/plain": [
       "False"
      ]
     },
     "execution_count": 5,
     "metadata": {},
     "output_type": "execute_result"
    }
   ],
   "source": [
    "19<18"
   ]
  },
  {
   "cell_type": "code",
   "execution_count": 6,
   "id": "cf92c7e0-7bec-4141-abad-9b2fbf15e270",
   "metadata": {},
   "outputs": [
    {
     "data": {
      "text/plain": [
       "True"
      ]
     },
     "execution_count": 6,
     "metadata": {},
     "output_type": "execute_result"
    }
   ],
   "source": [
    "18<=18"
   ]
  },
  {
   "cell_type": "code",
   "execution_count": 10,
   "id": "a17a8143-86d0-4324-b83f-896374f45e63",
   "metadata": {},
   "outputs": [
    {
     "name": "stdin",
     "output_type": "stream",
     "text": [
      " Krish Naik\n"
     ]
    },
    {
     "data": {
      "text/plain": [
       "'Krish Naik'"
      ]
     },
     "execution_count": 10,
     "metadata": {},
     "output_type": "execute_result"
    }
   ],
   "source": [
    "#Input Function - Executing Input shows the prompt\n",
    "input()"
   ]
  },
  {
   "cell_type": "code",
   "execution_count": 11,
   "id": "4cfe215a-869c-4b65-8b31-25a167d67f20",
   "metadata": {},
   "outputs": [
    {
     "name": "stdin",
     "output_type": "stream",
     "text": [
      "Enter the Name:  Krish NAik\n"
     ]
    }
   ],
   "source": [
    "name=input(\"Enter the Name: \")"
   ]
  },
  {
   "cell_type": "code",
   "execution_count": 12,
   "id": "467dbd5e-baa0-44dc-8c61-1bf26b13df0e",
   "metadata": {},
   "outputs": [
    {
     "data": {
      "text/plain": [
       "'Krish NAik'"
      ]
     },
     "execution_count": 12,
     "metadata": {},
     "output_type": "execute_result"
    }
   ],
   "source": [
    "name"
   ]
  },
  {
   "cell_type": "code",
   "execution_count": 13,
   "id": "fa06e22b-c8d2-42da-b7cb-d2e6060e82fb",
   "metadata": {},
   "outputs": [
    {
     "name": "stdin",
     "output_type": "stream",
     "text": [
      "Enter your Age:  32\n"
     ]
    }
   ],
   "source": [
    "age=int(input(\"Enter your Age: \"))"
   ]
  },
  {
   "cell_type": "code",
   "execution_count": 14,
   "id": "e24cec86-d093-44ec-930e-de9ab2678b14",
   "metadata": {},
   "outputs": [
    {
     "data": {
      "text/plain": [
       "32"
      ]
     },
     "execution_count": 14,
     "metadata": {},
     "output_type": "execute_result"
    }
   ],
   "source": [
    "age\n"
   ]
  },
  {
   "cell_type": "code",
   "execution_count": 15,
   "id": "320d99e0-c10d-49b4-a8a7-e395ecb793e9",
   "metadata": {},
   "outputs": [
    {
     "data": {
      "text/plain": [
       "int"
      ]
     },
     "execution_count": 15,
     "metadata": {},
     "output_type": "execute_result"
    }
   ],
   "source": [
    "type(age)"
   ]
  },
  {
   "cell_type": "code",
   "execution_count": 4,
   "id": "fd4c64e9-ac30-4a1f-aa0f-5794b49b6867",
   "metadata": {},
   "outputs": [
    {
     "name": "stdin",
     "output_type": "stream",
     "text": [
      "Enter your Age:  22\n"
     ]
    },
    {
     "name": "stdout",
     "output_type": "stream",
     "text": [
      "You are Young Blood\n"
     ]
    }
   ],
   "source": [
    "#Task\n",
    "age=int(input(\"Enter your Age: \"))\n",
    "if(age>=18 and age<=45):\n",
    "    print(\"You are Young Blood\")"
   ]
  },
  {
   "cell_type": "code",
   "execution_count": 3,
   "id": "394f6d9b-b0f0-4cdd-9b1a-912fce173de4",
   "metadata": {},
   "outputs": [
    {
     "name": "stdin",
     "output_type": "stream",
     "text": [
      "Enter your Age:  48\n"
     ]
    }
   ],
   "source": [
    "#Task\n",
    "age=int(input(\"Enter your Age: \"))\n",
    "if(age>=18 and age<=45):\n",
    "    print(\"You are Young Blood\")"
   ]
  },
  {
   "cell_type": "code",
   "execution_count": 6,
   "id": "32394d2d-cef5-40af-bfbe-51d7d2f4bcd0",
   "metadata": {},
   "outputs": [
    {
     "name": "stdin",
     "output_type": "stream",
     "text": [
      "Enter your Age:  17\n"
     ]
    },
    {
     "name": "stdout",
     "output_type": "stream",
     "text": [
      "Thank you.We will let you know\n"
     ]
    }
   ],
   "source": [
    "#if else statements:\n",
    "age=int(input(\"Enter your Age: \"))\n",
    "if(age>=18 and age<=45):\n",
    "    print(\"You are Young Blood\")\n",
    "else:\n",
    "    print(\"Thank you.We will let you know\")"
   ]
  },
  {
   "cell_type": "code",
   "execution_count": null,
   "id": "cb972f99-7854-4dbf-b4fb-f8a9fc53387e",
   "metadata": {},
   "outputs": [],
   "source": [
    "## Assignment: \n",
    "## Mall. Input the product price. \n",
    "## If Product >1000 rs then when you buy a product you get 20% off\n",
    "## Print the product price after removing the discount\n",
    "## if Product <=1000 rs then 30% off\n",
    "## Print the product price after removing the discount"
   ]
  },
  {
   "cell_type": "code",
   "execution_count": 4,
   "id": "25305676-d61f-4319-a72b-8645e618cc93",
   "metadata": {},
   "outputs": [
    {
     "name": "stdin",
     "output_type": "stream",
     "text": [
      "Enter the Product Price: Rs   1200\n"
     ]
    },
    {
     "name": "stdout",
     "output_type": "stream",
     "text": [
      "The price of the product is : Rs 960.0\n"
     ]
    }
   ],
   "source": [
    "product_price=int(input(\"Enter the Product Price: Rs  \"))\n",
    "if(product_price>1000):\n",
    "     print(\"The price of the product is : Rs {}\".format(product_price -0.2*product_price))\n",
    "else : \n",
    "     print(\"The price of the product is : Rs {} \".format(0.7*product_price))\n",
    "           "
   ]
  },
  {
   "cell_type": "code",
   "execution_count": null,
   "id": "0adaf8a4-e3aa-4c03-adbc-4757bbc6c550",
   "metadata": {},
   "outputs": [],
   "source": [
    "## Assignment: \n",
    "## Mall. Input the product price. \n",
    "## If Product >3000 rs then when you buy a product you get 20% off\n",
    "## Print the product price after removing the discount\n",
    "## if Product >=2000 rs and <=3000 then 30% off\n",
    "## Print the product price after removing the discount\n",
    "## if Product >=1000 rs and <=33000 then 40% off\n",
    "## Print the product price after removing the discount"
   ]
  },
  {
   "cell_type": "code",
   "execution_count": 1,
   "id": "77b4652a-5d8e-4721-9c28-dfbee5b6aaa5",
   "metadata": {},
   "outputs": [
    {
     "name": "stdin",
     "output_type": "stream",
     "text": [
      "Enter the Product Price: Rs   2500\n"
     ]
    },
    {
     "name": "stdout",
     "output_type": "stream",
     "text": [
      "The price of the product is : Rs 1750.0 \n"
     ]
    }
   ],
   "source": [
    "product_price=int(input(\"Enter the Product Price: Rs  \"))\n",
    "if(product_price>=3000):\n",
    "     print(\"The price of the product is : Rs {}\".format(0.8*product_price))\n",
    "elif(product_price>=2000 and product_price<3000 ) : \n",
    "     print(\"The price of the product is : Rs {} \".format(0.7*product_price))\n",
    "elif(product_price>=1000 and product_price<2000 ) : \n",
    "     print(\"The price of the product is : Rs {} \".format(0.6*product_price))"
   ]
  },
  {
   "cell_type": "code",
   "execution_count": 2,
   "id": "4251d29c-0910-43ba-b30f-c44f6439e485",
   "metadata": {},
   "outputs": [
    {
     "name": "stdin",
     "output_type": "stream",
     "text": [
      "Enter the Product Price: Rs   55\n"
     ]
    },
    {
     "name": "stdout",
     "output_type": "stream",
     "text": [
      "Lets Drink Tea.\n"
     ]
    }
   ],
   "source": [
    "product_price=int(input(\"Enter the Product Price: Rs  \"))\n",
    "if(product_price>3000):\n",
    "     print(\"The price of the product is : Rs {}\".format(0.8*product_price))\n",
    "elif(product_price>=2000 and product_price<=3000 ) : \n",
    "     print(\"The price of the product is : Rs {} \".format(0.7*product_price))\n",
    "elif(product_price>=100 and product_price<=2000 ) : \n",
    "     print(\"The price of the product is : Rs {} \".format(0.6*product_price))\n",
    "else:\n",
    "     print(\"Lets Drink Tea.\")"
   ]
  },
  {
   "cell_type": "code",
   "execution_count": null,
   "id": "62d1d2ea-bf8f-4cdd-b4b5-7eef7f2718ee",
   "metadata": {},
   "outputs": [],
   "source": [
    "## Include special price . If price==2999 you will get additional gift"
   ]
  },
  {
   "cell_type": "code",
   "execution_count": 3,
   "id": "799f47fb-dc05-4fe7-bb6b-678e7ef33c46",
   "metadata": {},
   "outputs": [
    {
     "name": "stdin",
     "output_type": "stream",
     "text": [
      "Enter the Product Price: Rs   2999\n"
     ]
    },
    {
     "name": "stdout",
     "output_type": "stream",
     "text": [
      "Congratulations. you have got an additional gift.\n",
      "The price of the product is : Rs 2099.2999999999997 \n"
     ]
    }
   ],
   "source": [
    "## Nested If\n",
    "product_price=int(input(\"Enter the Product Price: Rs  \"))\n",
    "if(product_price>3000):\n",
    "     print(\"The price of the product is : Rs {}\".format(0.8*product_price))\n",
    "elif(product_price>=2000 and product_price<=3000 ) : \n",
    "     if (product_price==2999):\n",
    "             print(\"Congratulations. you have got an additional gift.\")\n",
    "     print(\"The price of the product is : Rs {} \".format(0.7*product_price))\n",
    "elif(product_price>=100 and product_price<=2000 ) : \n",
    "     print(\"The price of the product is : Rs {} \".format(0.6*product_price))\n",
    "else:\n",
    "     print(\"Lets Drink Tea.\")"
   ]
  },
  {
   "cell_type": "code",
   "execution_count": 1,
   "id": "512753d6-701d-4f5c-8588-440a28d0aad0",
   "metadata": {},
   "outputs": [],
   "source": [
    "## If price=4000 you get a trip to goa"
   ]
  },
  {
   "cell_type": "code",
   "execution_count": 4,
   "id": "d4105419-2fcc-431e-89ca-a52d3a49600b",
   "metadata": {},
   "outputs": [
    {
     "name": "stdin",
     "output_type": "stream",
     "text": [
      "Enter the Product Price: Rs   4000\n"
     ]
    },
    {
     "name": "stdout",
     "output_type": "stream",
     "text": [
      "Congratulations. you get a trip to goa.\n",
      "The price of the product is : Rs 3200.0\n"
     ]
    }
   ],
   "source": [
    "## Nested If\n",
    "product_price=int(input(\"Enter the Product Price: Rs  \"))\n",
    "if(product_price>3000):\n",
    "     if (product_price==4000):\n",
    "             print(\"Congratulations. you get a trip to goa.\")\n",
    "     print(\"The price of the product is : Rs {}\".format(0.8*product_price))\n",
    "elif(product_price>=2000 and product_price<=3000 ) : \n",
    "     if (product_price==2999):\n",
    "             print(\"Congratulations. you have got an additional gift.\")\n",
    "     print(\"The price of the product is : Rs {} \".format(0.7*product_price))\n",
    "elif(product_price>=100 and product_price<=2000 ) : \n",
    "     print(\"The price of the product is : Rs {} \".format(0.6*product_price))\n",
    "else:\n",
    "     print(\"Lets Drink Tea.\")"
   ]
  },
  {
   "cell_type": "code",
   "execution_count": 8,
   "id": "23f4891c-8f25-4f5d-8bf6-e08e54f7dacb",
   "metadata": {},
   "outputs": [
    {
     "data": {
      "text/plain": [
       "True"
      ]
     },
     "execution_count": 8,
     "metadata": {},
     "output_type": "execute_result"
    }
   ],
   "source": [
    "##Comparison Operator\n",
    "True==True"
   ]
  },
  {
   "cell_type": "code",
   "execution_count": 3,
   "id": "732212a1-5901-4d71-9fb6-146ee6a4e945",
   "metadata": {},
   "outputs": [
    {
     "name": "stdin",
     "output_type": "stream",
     "text": [
      "Enter the Number:  400\n"
     ]
    },
    {
     "name": "stdout",
     "output_type": "stream",
     "text": [
      "Value is less than equal to 999\n"
     ]
    }
   ],
   "source": [
    "#Single Statement\n",
    "val=int(input('Enter the Number: ')) \n",
    "if (val<=999): print(\"Value is less than equal to 999\")\n",
    "else: \n",
    "    print(\"Go Home\")"
   ]
  },
  {
   "cell_type": "code",
   "execution_count": null,
   "id": "2e770ea5-ebb2-4b56-a1df-2c0353888366",
   "metadata": {},
   "outputs": [],
   "source": []
  },
  {
   "cell_type": "code",
   "execution_count": null,
   "id": "809db7bb-ed94-40e8-96b9-de310e7e58b3",
   "metadata": {},
   "outputs": [],
   "source": []
  },
  {
   "cell_type": "code",
   "execution_count": null,
   "id": "3d0713ac-63f1-45de-a807-ecb05e2d9f45",
   "metadata": {},
   "outputs": [],
   "source": []
  },
  {
   "cell_type": "code",
   "execution_count": null,
   "id": "bf4d9741-f21d-4b0d-9032-61b5da4082d1",
   "metadata": {},
   "outputs": [],
   "source": []
  },
  {
   "cell_type": "code",
   "execution_count": null,
   "id": "cd529069-d67d-4436-89ff-25837130f8c0",
   "metadata": {},
   "outputs": [],
   "source": []
  },
  {
   "cell_type": "code",
   "execution_count": null,
   "id": "07644158-57c4-4336-84c8-08f43a28e7a2",
   "metadata": {},
   "outputs": [],
   "source": [
    "#1:36:00"
   ]
  }
 ],
 "metadata": {
  "kernelspec": {
   "display_name": "Python 3 (ipykernel)",
   "language": "python",
   "name": "python3"
  },
  "language_info": {
   "codemirror_mode": {
    "name": "ipython",
    "version": 3
   },
   "file_extension": ".py",
   "mimetype": "text/x-python",
   "name": "python",
   "nbconvert_exporter": "python",
   "pygments_lexer": "ipython3",
   "version": "3.10.8"
  }
 },
 "nbformat": 4,
 "nbformat_minor": 5
}
